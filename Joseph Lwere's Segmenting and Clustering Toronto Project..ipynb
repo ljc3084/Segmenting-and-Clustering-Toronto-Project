{
 "cells": [
  {
   "cell_type": "markdown",
   "id": "9f838ebd-7ad0-4300-bc5a-919ac0a3f7ab",
   "metadata": {},
   "source": [
    "## Installing Beautiful Soup"
   ]
  },
  {
   "cell_type": "code",
   "execution_count": 1,
   "id": "3748ee8e-c49c-4f87-b61a-c6a5f736c52f",
   "metadata": {},
   "outputs": [
    {
     "name": "stdout",
     "output_type": "stream",
     "text": [
      "Requirement already satisfied: bs4 in /home/jupyterlab/conda/envs/python/lib/python3.6/site-packages (0.0.1)\n",
      "Requirement already satisfied: beautifulsoup4 in /home/jupyterlab/conda/envs/python/lib/python3.6/site-packages (from bs4) (4.9.3)\n",
      "Requirement already satisfied: soupsieve>1.2; python_version >= \"3.0\" in /home/jupyterlab/conda/envs/python/lib/python3.6/site-packages (from beautifulsoup4->bs4) (2.2.1)\n"
     ]
    }
   ],
   "source": [
    "!pip install bs4"
   ]
  },
  {
   "cell_type": "markdown",
   "id": "45f57570-5398-40ad-8d45-705a7e759438",
   "metadata": {},
   "source": [
    "### Importing Beautiful Soup"
   ]
  },
  {
   "cell_type": "code",
   "execution_count": 2,
   "id": "ba0971a3-e587-47b2-8257-4a6ad1fd7ec7",
   "metadata": {},
   "outputs": [],
   "source": [
    "from bs4 import BeautifulSoup \n",
    "import requests"
   ]
  },
  {
   "cell_type": "code",
   "execution_count": 3,
   "id": "f51e2bf0-a67a-4fe6-a7a8-c93490cbe844",
   "metadata": {},
   "outputs": [],
   "source": [
    "url='https://en.wikipedia.org/wiki/List_of_postal_codes_of_Canada:_M'"
   ]
  },
  {
   "cell_type": "code",
   "execution_count": 4,
   "id": "67b68e9c-7b15-4b51-b01e-6c829ee1f3ed",
   "metadata": {},
   "outputs": [],
   "source": [
    "datasc  = requests.get(url)"
   ]
  },
  {
   "cell_type": "code",
   "execution_count": 6,
   "id": "4ae51652-b7c1-456c-b019-11480175f6ef",
   "metadata": {},
   "outputs": [],
   "source": [
    "soup = BeautifulSoup(datasc.text,\"html5lib\")"
   ]
  },
  {
   "cell_type": "code",
   "execution_count": 14,
   "id": "38380663-850c-4d16-bdca-8078c67c9f81",
   "metadata": {},
   "outputs": [],
   "source": [
    "table_contents=[]\n",
    "table=soup.find('table')\n",
    "\n",
    "for row in table.findAll('td'):\n",
    "    \n",
    "    cell = {}\n",
    "   \n",
    "    if row.span.text=='Not assigned':\n",
    "        pass\n",
    "    else:\n",
    "        cell['PostalCode'] = row.p.text[:3]\n",
    "        cell['Borough'] = (row.span.text).split('(')[0]\n",
    "        cell['Neighborhood'] = (((((row.span.text).split('(')[1]).strip(')')).replace(' /',',')).replace(')',' ')).strip(' ')\n",
    "        table_contents.append(cell)\n"
   ]
  },
  {
   "cell_type": "code",
   "execution_count": 15,
   "id": "22aca10a-9d44-4929-b07c-6abbcd269fd6",
   "metadata": {},
   "outputs": [],
   "source": [
    "import pandas as pd"
   ]
  },
  {
   "cell_type": "markdown",
   "id": "6dc3d45d-5f5c-4184-a67d-14678739989d",
   "metadata": {},
   "source": [
    "#### redefine Borough"
   ]
  },
  {
   "cell_type": "code",
   "execution_count": 21,
   "id": "4ce3b956-6467-49e7-9dc0-823f237d9853",
   "metadata": {},
   "outputs": [],
   "source": [
    "sc_df=pd.DataFrame(table_contents)\n",
    "sc_df['Borough']=sc_df['Borough'].replace({'Downtown TorontoStn A PO Boxes25 The Esplanade':'Downtown Toronto Stn A',\n",
    "                                             'East TorontoBusiness reply mail Processing Centre969 Eastern':'East Toronto Business',\n",
    "                                             'EtobicokeNorthwest':'Etobicoke Northwest','East YorkEast Toronto':'East York/East Toronto',\n",
    "                                             'MississaugaCanada Post Gateway Processing Centre':'Mississauga'})\n"
   ]
  },
  {
   "cell_type": "markdown",
   "id": "db31e46d-208e-4c72-98fe-5b246c0d0c4c",
   "metadata": {},
   "source": [
    "Using the .shape method to state the number of rows in the dataframe"
   ]
  },
  {
   "cell_type": "code",
   "execution_count": 23,
   "id": "b9bd08c1-f31a-467f-b1f4-40d47139ba8a",
   "metadata": {},
   "outputs": [
    {
     "data": {
      "text/plain": [
       "(103, 3)"
      ]
     },
     "execution_count": 23,
     "metadata": {},
     "output_type": "execute_result"
    }
   ],
   "source": [
    "sc_df.shape"
   ]
  },
  {
   "cell_type": "code",
   "execution_count": null,
   "id": "d0681757-225b-43c8-85a7-adf9ce3d2635",
   "metadata": {},
   "outputs": [],
   "source": []
  }
 ],
 "metadata": {
  "kernelspec": {
   "display_name": "Python",
   "language": "python",
   "name": "conda-env-python-py"
  },
  "language_info": {
   "codemirror_mode": {
    "name": "ipython",
    "version": 3
   },
   "file_extension": ".py",
   "mimetype": "text/x-python",
   "name": "python",
   "nbconvert_exporter": "python",
   "pygments_lexer": "ipython3",
   "version": "3.6.13"
  }
 },
 "nbformat": 4,
 "nbformat_minor": 5
}
